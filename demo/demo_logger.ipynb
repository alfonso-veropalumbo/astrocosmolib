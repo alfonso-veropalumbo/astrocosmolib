{
 "cells": [
  {
   "cell_type": "code",
   "execution_count": 1,
   "metadata": {},
   "outputs": [],
   "source": [
    "# import pyACC\n",
    "\n",
    "import sys\n",
    "sys.path.append(\"../\")"
   ]
  },
  {
   "cell_type": "code",
   "execution_count": 3,
   "metadata": {},
   "outputs": [],
   "source": [
    "# import Logger\n",
    "from pyACC.helpers import Logger"
   ]
  },
  {
   "cell_type": "code",
   "execution_count": 4,
   "metadata": {},
   "outputs": [],
   "source": [
    "# Intialize Logger\n",
    "logger = Logger(\"Alfonso\")"
   ]
  },
  {
   "cell_type": "code",
   "execution_count": 5,
   "metadata": {},
   "outputs": [
    {
     "name": "stdout",
     "output_type": "stream",
     "text": [
      "2025-03-05 10:02:57.164428 :: \u001b[1m\u001b[35mAlfonso\u001b[0m :: \u001b[32mINFO\u001b[0m :: Hello World!\n"
     ]
    }
   ],
   "source": [
    "#Info message\n",
    "logger(\"Hello World!\")"
   ]
  },
  {
   "cell_type": "code",
   "execution_count": 6,
   "metadata": {},
   "outputs": [
    {
     "name": "stdout",
     "output_type": "stream",
     "text": [
      "2025-03-05 10:04:05.432161 :: \u001b[1m\u001b[35mAlfonso\u001b[0m :: \u001b[33mWARNING\u001b[0m :: This is a warning\n"
     ]
    }
   ],
   "source": [
    "# Warning message\n",
    "logger.warning(\"This is a warning\")"
   ]
  },
  {
   "cell_type": "code",
   "execution_count": 7,
   "metadata": {},
   "outputs": [
    {
     "name": "stdout",
     "output_type": "stream",
     "text": [
      "2025-03-05 10:04:21.984096 :: \u001b[1m\u001b[35mAlfonso\u001b[0m :: \u001b[31mERROR\u001b[0m :: This is an error\n"
     ]
    }
   ],
   "source": [
    "# Error message\n",
    "logger.error(\"This is an error\")"
   ]
  }
 ],
 "metadata": {
  "kernelspec": {
   "display_name": "acc-env",
   "language": "python",
   "name": "python3"
  },
  "language_info": {
   "codemirror_mode": {
    "name": "ipython",
    "version": 3
   },
   "file_extension": ".py",
   "mimetype": "text/x-python",
   "name": "python",
   "nbconvert_exporter": "python",
   "pygments_lexer": "ipython3",
   "version": "3.12.9"
  }
 },
 "nbformat": 4,
 "nbformat_minor": 2
}
